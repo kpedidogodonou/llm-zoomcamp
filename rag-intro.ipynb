{
 "cells": [
  {
   "cell_type": "code",
   "execution_count": null,
   "id": "d6470f70-d5cf-4a90-9974-2b7db845e037",
   "metadata": {},
   "outputs": [],
   "source": [
    "!wget https://raw.githubusercontent.com/alexeygrigorev/minsearch/main/minsearch.py"
   ]
  },
  {
   "cell_type": "code",
   "execution_count": 27,
   "id": "6e6f7dbe-61f6-4f3d-962c-380fbefcb926",
   "metadata": {},
   "outputs": [],
   "source": [
    " import minsearch"
   ]
  },
  {
   "cell_type": "code",
   "execution_count": 2,
   "id": "f2347c4d-ee95-4ed8-9ed9-00bdbdc11835",
   "metadata": {},
   "outputs": [],
   "source": [
    "import json"
   ]
  },
  {
   "cell_type": "code",
   "execution_count": 3,
   "id": "7d33408f-bf60-465f-9378-9f9b9a837729",
   "metadata": {},
   "outputs": [],
   "source": [
    "with open(\"documents.json\", \"rt\") as f_in:\n",
    "    docs_raw = json.load(f_in)"
   ]
  },
  {
   "cell_type": "code",
   "execution_count": 4,
   "id": "f021abe5-4a88-4327-be70-a65f965f08ec",
   "metadata": {},
   "outputs": [],
   "source": [
    "documents = []\n",
    "\n",
    "for course_dict in docs_raw:\n",
    "    for doc in course_dict[\"documents\"]:\n",
    "        doc[\"course\"] = course_dict[\"course\"]\n",
    "        documents.append(doc)"
   ]
  },
  {
   "cell_type": "code",
   "execution_count": 5,
   "id": "7293b27f-0aa7-4a34-8b65-4f45f5a8891e",
   "metadata": {},
   "outputs": [
    {
     "data": {
      "text/plain": [
       "{'text': \"The purpose of this document is to capture frequently asked technical questions\\nThe exact day and hour of the course will be 15th Jan 2024 at 17h00. The course will start with the first  “Office Hours'' live.1\\nSubscribe to course public Google Calendar (it works from Desktop only).\\nRegister before the course starts using this link.\\nJoin the course Telegram channel with announcements.\\nDon’t forget to register in DataTalks.Club's Slack and join the channel.\",\n",
       " 'section': 'General course-related questions',\n",
       " 'question': 'Course - When will the course start?',\n",
       " 'course': 'data-engineering-zoomcamp'}"
      ]
     },
     "execution_count": 5,
     "metadata": {},
     "output_type": "execute_result"
    }
   ],
   "source": [
    "documents[0]"
   ]
  },
  {
   "cell_type": "code",
   "execution_count": 6,
   "id": "6609aaf3-a63e-4132-be2a-ef03207609ac",
   "metadata": {},
   "outputs": [],
   "source": [
    "index = minsearch.Index(\n",
    "    text_fields=[\"question\", \"text\", \"section\"],\n",
    "    keyword_fields=[\"course\"]\n",
    ")"
   ]
  },
  {
   "cell_type": "code",
   "execution_count": 7,
   "id": "c3b45dee-18a0-49c8-bd2b-af6753320837",
   "metadata": {},
   "outputs": [
    {
     "data": {
      "text/plain": [
       "<minsearch.Index at 0x7d010d536ba0>"
      ]
     },
     "execution_count": 7,
     "metadata": {},
     "output_type": "execute_result"
    }
   ],
   "source": [
    "index.fit(documents)"
   ]
  },
  {
   "cell_type": "code",
   "execution_count": 8,
   "id": "9f05b2c2-daea-4d7c-bf56-c67a058d21fc",
   "metadata": {},
   "outputs": [],
   "source": [
    "from openai import OpenAI"
   ]
  },
  {
   "cell_type": "code",
   "execution_count": 9,
   "id": "5ac7b39b-8260-4ee3-bdb9-296c8f7dd9b4",
   "metadata": {},
   "outputs": [],
   "source": [
    "client = OpenAI()"
   ]
  },
  {
   "cell_type": "code",
   "execution_count": 10,
   "id": "28b7e328-15a5-47e5-bd8c-e1e4f839eabf",
   "metadata": {},
   "outputs": [],
   "source": [
    "def search(query):\n",
    "    boost = {\"question\": 3.0, \"section\": 0.4}\n",
    "\n",
    "    results = index.search(\n",
    "        query=query,\n",
    "        filter_dict={\"course\": \"data-engineering-zoomcamp\"},\n",
    "        boost_dict=boost,\n",
    "        num_results=10\n",
    "    )\n",
    "\n",
    "    return results"
   ]
  },
  {
   "cell_type": "code",
   "execution_count": 11,
   "id": "840964d8-1156-462d-a334-153763a212ed",
   "metadata": {},
   "outputs": [],
   "source": [
    "def build_prompt(query, search_results):\n",
    "    prompt_template = \"\"\"\n",
    "    You're a course teaching assistant. Answer the QUESTION based on the CONTEXT from the FAQ database. \n",
    "    Use only the facts from the CONTEXT when answering the QUESTION.\n",
    "    If the CONTEXT doesn't have the answer, output NONE\n",
    "    \n",
    "    QUESTION: {question}\n",
    "    \n",
    "    CONTEXT: \n",
    "    {context}\n",
    "    \"\"\"\n",
    "    context = \"\"\n",
    "\n",
    "    for doc in search_results :\n",
    "        context = context + f\"section: {doc['section']} \\nquestion: {doc['question']}\\nanswer: {doc['text']} \\n\\n\"\n",
    "    prompt = prompt_template.format(question=query, context=context).strip()\n",
    "\n",
    "    return prompt\n"
   ]
  },
  {
   "cell_type": "code",
   "execution_count": 12,
   "id": "26cd4abd-6f90-435e-85af-40c549416ad6",
   "metadata": {},
   "outputs": [],
   "source": [
    "def llm(prompt):\n",
    "    response = client.chat.completions.create(\n",
    "     model=\"gpt-4o\",\n",
    "     messages=[{\"role\": \"user\", \"content\": prompt}]\n",
    "    )\n",
    "\n",
    "    return response.choices[0].message.content\n",
    "    "
   ]
  },
  {
   "cell_type": "code",
   "execution_count": 13,
   "id": "7d263eb3-c71a-4410-bf22-76dc9d12f5ab",
   "metadata": {},
   "outputs": [],
   "source": [
    "query = \"I have an issue when running stream-kafka?\"\n",
    "\n",
    "def rag(query):\n",
    "    search_results = search(query)\n",
    "    prompt = build_prompt(query, search_results)\n",
    "    answer = llm(prompt)\n",
    "    return answer "
   ]
  },
  {
   "cell_type": "code",
   "execution_count": 14,
   "id": "e5c02f2d-1b47-4837-9147-4af7728f0cc6",
   "metadata": {},
   "outputs": [
    {
     "data": {
      "text/plain": [
       "'If you are experiencing an issue when running the stream-kafka script, the context provides several possible solutions based on specific problems:\\n\\n1. **Psycopg2 Issue**: If your issue is related to \"Psycopg2 - issues\", replace `psycopg2==2.9.9` with `psycopg2-binary` in the requirements.txt file. Also, remember to run `source command.sh` for each terminal session.\\n\\n2. **Connection Refused Error**: If the script gets stuck on a loop with \"Connection Refused\", check the logs of the `message_queue` container in Docker. If you see the error message \"insufficient physical memory\", lower the memory allocation of the service “message_queue” in your docker-compose file from 4GB to a lower value, like 3GB.\\n\\n3. **Ingestion Rate**: If the concern is about the number of records ingested at a time, it is noted that it is expected to be 10 at a time for real-time query observation. This was recently increased to 100 at a time, and you may need to pull the latest changes from the repository.\\n\\nIf none of these address your specific issue, further context or details about the problem will be needed to provide a more helpful solution.\\n\\nOtherwise, NONE.'"
      ]
     },
     "execution_count": 14,
     "metadata": {},
     "output_type": "execute_result"
    }
   ],
   "source": [
    "rag(query)"
   ]
  },
  {
   "cell_type": "code",
   "execution_count": null,
   "id": "5dd7fb59-de7d-4de9-a51a-dee38ceb83fa",
   "metadata": {},
   "outputs": [],
   "source": []
  },
  {
   "cell_type": "code",
   "execution_count": 20,
   "id": "7a0b1b13-9d4a-4ccd-b9f3-6f4f198d55bd",
   "metadata": {},
   "outputs": [],
   "source": [
    "from elasticsearch import Elasticsearch\n",
    "from elastic_transport import Transport\n",
    "\n",
    "es_client = Elasticsearch(\n",
    "    \"http://localhost:9200\"\n",
    ")"
   ]
  },
  {
   "cell_type": "code",
   "execution_count": 21,
   "id": "74d08908-1303-47ca-92ec-d5f28cc9dd23",
   "metadata": {},
   "outputs": [
    {
     "data": {
      "text/plain": [
       "ObjectApiResponse({'name': '35e1bdb2e5f4', 'cluster_name': 'docker-cluster', 'cluster_uuid': '_1OAr8nrR-mOsQPu4CDsNw', 'version': {'number': '9.0.1', 'build_flavor': 'default', 'build_type': 'docker', 'build_hash': '73f7594ea00db50aa7e941e151a5b3985f01e364', 'build_date': '2025-04-30T10:07:41.393025990Z', 'build_snapshot': False, 'lucene_version': '10.1.0', 'minimum_wire_compatibility_version': '8.18.0', 'minimum_index_compatibility_version': '8.0.0'}, 'tagline': 'You Know, for Search'})"
      ]
     },
     "execution_count": 21,
     "metadata": {},
     "output_type": "execute_result"
    }
   ],
   "source": [
    "es_client.info()"
   ]
  },
  {
   "cell_type": "code",
   "execution_count": 24,
   "id": "90dfaf18-ae81-4e1d-9af0-38437dc0d8f5",
   "metadata": {},
   "outputs": [
    {
     "data": {
      "text/plain": [
       "ObjectApiResponse({'acknowledged': True, 'shards_acknowledged': True, 'index': 'course-questions'})"
      ]
     },
     "execution_count": 24,
     "metadata": {},
     "output_type": "execute_result"
    }
   ],
   "source": [
    "index_settings = {\n",
    "    \"settings\": {\n",
    "        \"number_of_shards\": 1,\n",
    "        \"number_of_replicas\": 0\n",
    "    },\n",
    "\n",
    "    \"mappings\": {\n",
    "        \"properties\": {\n",
    "            \"text\": {\"type\": \"text\"},\n",
    "            \"section\": {\"type\": \"text\"},\n",
    "            \"question\": {\"type\": \"text\"},\n",
    "            \"course\": {\"type\": \"keyword\"}\n",
    "        }\n",
    "    }\n",
    "}\n",
    "\n",
    "index_name = \"course-questions\"\n",
    "\n",
    "es_client.indices.create(index=index_name, body=index_settings)"
   ]
  },
  {
   "cell_type": "code",
   "execution_count": 25,
   "id": "6d03d734-7a4d-4ddc-87df-a94a173533dd",
   "metadata": {},
   "outputs": [],
   "source": [
    "from tqdm.auto import tqdm"
   ]
  },
  {
   "cell_type": "code",
   "execution_count": null,
   "id": "f53bd13e-274d-4e57-b3fa-5c58bdd1ac0d",
   "metadata": {},
   "outputs": [],
   "source": []
  },
  {
   "cell_type": "code",
   "execution_count": 26,
   "id": "183afbc4-4315-49fd-bc0a-f8b036781a1e",
   "metadata": {},
   "outputs": [
    {
     "name": "stderr",
     "output_type": "stream",
     "text": [
      "100%|██████████████████████████████████████████████████████████████████████████████████████████████████| 948/948 [00:04<00:00, 232.79it/s]\n"
     ]
    }
   ],
   "source": [
    "for doc in tqdm(documents):\n",
    "    es_client.index(index=index_name, document=doc)"
   ]
  },
  {
   "cell_type": "code",
   "execution_count": 46,
   "id": "a80bb9d1-3061-4eb2-b146-93be7eb565a3",
   "metadata": {},
   "outputs": [],
   "source": [
    "def elastic_search(query):\n",
    "    \n",
    "    search_query = {\n",
    "        \"size\": 10,\n",
    "        \"query\": {\n",
    "            \"bool\": {\n",
    "                \"must\": {\n",
    "                    \"multi_match\": {\n",
    "                        \"query\": query,\n",
    "                        \"fields\": [\"question^3\", \"text\", \"section\"],\n",
    "                        \"type\": \"best_fields\"\n",
    "                    }\n",
    "                },\n",
    "                \"filter\": {\n",
    "                    \"term\": {\n",
    "                        \"course\": \"data-engineering-zoomcamp\"\n",
    "                    }\n",
    "                }\n",
    "            }\n",
    "        }\n",
    "    }\n",
    "    \n",
    "    response = es_client.search(index=index_name, body=search_query)\n",
    "\n",
    "    results_docs = []\n",
    "\n",
    "    for hit in response[\"hits\"][\"hits\"]:\n",
    "        results_docs.append(hit[\"_source\"])\n",
    "    \n",
    "    return results_docs"
   ]
  },
  {
   "cell_type": "code",
   "execution_count": 55,
   "id": "9712232d-cf80-4695-b90b-bb0cc6e437cb",
   "metadata": {},
   "outputs": [],
   "source": [
    "query = \"How to identify myself in the leaderboard?\"\n",
    "\n",
    "def rag(query):\n",
    "    search_results = elastic_search(query)\n",
    "    prompt = build_prompt(query, search_results)\n",
    "    answer = llm(prompt)\n",
    "    return answer "
   ]
  },
  {
   "cell_type": "code",
   "execution_count": 56,
   "id": "24c3d8c6-781e-447a-9821-fa4a27bf7acb",
   "metadata": {},
   "outputs": [
    {
     "data": {
      "text/plain": [
       "\"To identify yourself in the leaderboard, go to the Homework submission link at https://courses.datatalks.club/de-zoomcamp-2024/homework/hw2. Log in, click on 'Data Engineering Zoom Camp 2024,' and then click on 'Edit Course Profile' to see or change your display name. You are automatically assigned a random name like “Lucid Elbakyan” when setting up your account.\""
      ]
     },
     "execution_count": 56,
     "metadata": {},
     "output_type": "execute_result"
    }
   ],
   "source": [
    "rag(query)"
   ]
  },
  {
   "cell_type": "code",
   "execution_count": null,
   "id": "79d0eeb0-95f4-4c51-b9e6-1d4a7122f867",
   "metadata": {},
   "outputs": [],
   "source": []
  },
  {
   "cell_type": "code",
   "execution_count": null,
   "id": "ad155f5a-9c1d-4cdb-8e3b-9ea4fcba0ba3",
   "metadata": {},
   "outputs": [],
   "source": []
  },
  {
   "cell_type": "code",
   "execution_count": null,
   "id": "521a3bb5-d5b7-42cd-a44d-c09a28a1bf11",
   "metadata": {},
   "outputs": [],
   "source": []
  },
  {
   "cell_type": "code",
   "execution_count": null,
   "id": "ca031611-f05b-4133-9d13-02c5cdc510f6",
   "metadata": {},
   "outputs": [],
   "source": []
  }
 ],
 "metadata": {
  "kernelspec": {
   "display_name": "Python 3 (ipykernel)",
   "language": "python",
   "name": "python3"
  },
  "language_info": {
   "codemirror_mode": {
    "name": "ipython",
    "version": 3
   },
   "file_extension": ".py",
   "mimetype": "text/x-python",
   "name": "python",
   "nbconvert_exporter": "python",
   "pygments_lexer": "ipython3",
   "version": "3.13.2"
  }
 },
 "nbformat": 4,
 "nbformat_minor": 5
}
